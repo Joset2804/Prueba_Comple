{
  "nbformat": 4,
  "nbformat_minor": 0,
  "metadata": {
    "colab": {
      "name": "03_02.ipynb",
      "provenance": [],
      "authorship_tag": "ABX9TyOyVFngop6V0pQWaZGcEEN7",
      "include_colab_link": true
    },
    "kernelspec": {
      "name": "python3",
      "display_name": "Python 3"
    },
    "language_info": {
      "name": "python"
    }
  },
  "cells": [
    {
      "cell_type": "markdown",
      "metadata": {
        "id": "view-in-github",
        "colab_type": "text"
      },
      "source": [
        "<a href=\"https://colab.research.google.com/github/Joset2804/Prueba_Comple/blob/main/03_02.ipynb\" target=\"_parent\"><img src=\"https://colab.research.google.com/assets/colab-badge.svg\" alt=\"Open In Colab\"/></a>"
      ]
    },
    {
      "cell_type": "code",
      "metadata": {
        "colab": {
          "base_uri": "https://localhost:8080/"
        },
        "id": "OHmBLAzgQbUv",
        "outputId": "69400897-b7b7-44dd-f24a-2e5ad2a69907"
      },
      "source": [
        "import random\n",
        "\n",
        "a = list (range(30))\n",
        "random.shuffle(a)\n",
        "print(a)"
      ],
      "execution_count": null,
      "outputs": [
        {
          "output_type": "stream",
          "name": "stdout",
          "text": [
            "[16, 20, 4, 21, 9, 28, 1, 6, 10, 25, 29, 13, 11, 23, 12, 15, 26, 24, 14, 27, 0, 2, 19, 18, 3, 5, 17, 8, 7, 22]\n"
          ]
        }
      ]
    },
    {
      "cell_type": "code",
      "metadata": {
        "colab": {
          "base_uri": "https://localhost:8080/"
        },
        "id": "qmqzlBpAQwx9",
        "outputId": "f2e1285c-941c-408d-e7d6-a38540a0b08e"
      },
      "source": [
        "def sumaNum (a):\n",
        "  if len(a)==1:\n",
        "    return a[0]\n",
        "  else: \n",
        "    return a[0] + sumaNum(a[1:])\n",
        "  \n",
        "print(sumaNum(a)) "
      ],
      "execution_count": null,
      "outputs": [
        {
          "output_type": "stream",
          "name": "stdout",
          "text": [
            "435\n"
          ]
        }
      ]
    },
    {
      "cell_type": "code",
      "metadata": {
        "colab": {
          "base_uri": "https://localhost:8080/"
        },
        "id": "twQypRfzTyNh",
        "outputId": "840d0a2e-0014-471d-f49d-fbaf139b7d94"
      },
      "source": [
        "res = sumaNum(a)\n",
        "assert res == sum(a)\n",
        "res"
      ],
      "execution_count": null,
      "outputs": [
        {
          "output_type": "execute_result",
          "data": {
            "text/plain": [
              "435"
            ]
          },
          "metadata": {},
          "execution_count": 23
        }
      ]
    },
    {
      "cell_type": "code",
      "metadata": {
        "colab": {
          "base_uri": "https://localhost:8080/"
        },
        "id": "wXQPo55pVbVy",
        "outputId": "81301888-c2c4-467d-df7e-38d9e4d909b0"
      },
      "source": [
        "#divide y venceras\n",
        "def sumatoria(i,f,a):\n",
        "  if i==f:\n",
        "    return a[i]\n",
        "  else: \n",
        "    mid = (i+f)//2\n",
        "    x= sumatoria(i,mid,a)\n",
        "    y= sumatoria(mid+1,f,a)\n",
        "  return x+y\n",
        "\n",
        "def _sumatoria(a):\n",
        "  return sumatoria(0,len(a)-1,a)\n",
        "\n",
        "print(_sumatoria(a))"
      ],
      "execution_count": null,
      "outputs": [
        {
          "output_type": "stream",
          "name": "stdout",
          "text": [
            "435\n"
          ]
        }
      ]
    }
  ]
}